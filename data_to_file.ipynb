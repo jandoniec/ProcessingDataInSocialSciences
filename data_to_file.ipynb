{
  "cells": [
    {
      "cell_type": "markdown",
      "metadata": {
        "id": "view-in-github",
        "colab_type": "text"
      },
      "source": [
        "<a href=\"https://colab.research.google.com/github/jandoniec/ProcessingDataInSocialSciences/blob/main/data_to_file.ipynb\" target=\"_parent\"><img src=\"https://colab.research.google.com/assets/colab-badge.svg\" alt=\"Open In Colab\"/></a>"
      ]
    },
    {
      "cell_type": "markdown",
      "metadata": {
        "id": "is05l74PxGtr"
      },
      "source": [
        "# SAVING DATA TO FILE\n",
        "---"
      ]
    },
    {
      "cell_type": "markdown",
      "metadata": {
        "id": "0hTfnpYKxGtv"
      },
      "source": [
        "## Methods of Writing Data to File"
      ]
    },
    {
      "cell_type": "markdown",
      "metadata": {
        "id": "LMU4XctxxGtw"
      },
      "source": [
        "To save a DataFrame to a file, use one of the available methods. Try to save data from all rows but selected columns to the file."
      ]
    },
    {
      "cell_type": "code",
      "execution_count": 3,
      "metadata": {
        "id": "kBQHZIsFxGtx"
      },
      "outputs": [],
      "source": [
        "import pandas as pd\n",
        "oscars = pd.read_csv('oscars.csv')"
      ]
    },
    {
      "cell_type": "code",
      "execution_count": 4,
      "metadata": {
        "id": "d0erB5EOxGty"
      },
      "outputs": [],
      "source": [
        "movies = oscars.loc[:,['Movie','Year']]\n",
        "movies.to_csv('movies.csv', index=False)"
      ]
    },
    {
      "cell_type": "markdown",
      "metadata": {
        "id": "6Hay7qp3xGty"
      },
      "source": [
        "### Tasks"
      ]
    },
    {
      "cell_type": "markdown",
      "metadata": {
        "id": "WmDEP5ZUxGty"
      },
      "source": [
        "Display the contents of the created CSV file in the editor and:\n",
        "\n",
        "* Verify that the file contains two columns of data.\n",
        "* Note that if you use index=False when writing data to the file, the file will not contain the names/numbers of the data rows."
      ]
    },
    {
      "cell_type": "markdown",
      "metadata": {
        "id": "BQtOd-RoxGty"
      },
      "source": [
        "Now try to save the first 6 rows to a JSON file. Then, display the contents of the created file in the editor."
      ]
    },
    {
      "cell_type": "markdown",
      "metadata": {
        "id": "Xce7xD1hxGty"
      },
      "source": [
        "Try to save the last 8 rows with the columns Movie and Year to an HTML file. Then, display the contents of the created file in the editor. Finally, display the created HTML document in any web browser."
      ]
    },
    {
      "cell_type": "code",
      "source": [
        "movies = oscars.loc[:,['Movie','Year']]\n",
        "movies.to_json('movies.json', index=False)"
      ],
      "metadata": {
        "id": "MoPb8pFPxjwM"
      },
      "execution_count": 6,
      "outputs": []
    },
    {
      "cell_type": "code",
      "source": [
        "\n",
        "oscars = pd.read_csv('oscars.csv')\n",
        "last_8_movies = oscars.loc[:,['Movie','Year']].tail(8)\n",
        "last_8_movies.to_html('movies.html', index=False)\n"
      ],
      "metadata": {
        "id": "sPCg2hwOxsRt"
      },
      "execution_count": 9,
      "outputs": []
    }
  ],
  "metadata": {
    "kernelspec": {
      "display_name": "Python 3",
      "language": "python",
      "name": "python3"
    },
    "language_info": {
      "codemirror_mode": {
        "name": "ipython",
        "version": 3
      },
      "file_extension": ".py",
      "mimetype": "text/x-python",
      "name": "python",
      "nbconvert_exporter": "python",
      "pygments_lexer": "ipython3",
      "version": "3.11.1"
    },
    "colab": {
      "provenance": [],
      "include_colab_link": true
    }
  },
  "nbformat": 4,
  "nbformat_minor": 0
}